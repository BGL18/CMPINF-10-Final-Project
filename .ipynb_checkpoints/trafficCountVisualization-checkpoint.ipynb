{
 "cells": [
  {
   "cell_type": "markdown",
   "metadata": {},
   "source": [
    "# Data Visualization"
   ]
  },
  {
   "cell_type": "markdown",
   "metadata": {},
   "source": [
    "### Traffic Count Data Set"
   ]
  },
  {
   "cell_type": "markdown",
   "metadata": {},
   "source": [
    "##### Adam Funk 4/5/2022"
   ]
  },
  {
   "cell_type": "markdown",
   "metadata": {},
   "source": [
    "Purpose: The purpose of the Jupyter Notebook is to visualize data from the Traffic Count Data Set retrieved from WPRDC. I intend to identify any trends from this data set and use this to further our argument on which neighborhood is the best environment for biking in Pittsburgh."
   ]
  },
  {
   "cell_type": "markdown",
   "metadata": {},
   "source": [
    "### Import Packages with Pandas"
   ]
  },
  {
   "cell_type": "code",
   "execution_count": 12,
   "metadata": {},
   "outputs": [],
   "source": [
    "import pandas as pd\n",
    "import seaborn as sns\n",
    "import numpy as np\n",
    "%matplotlib inline\n",
    "import matplotlib.pyplot as plt"
   ]
  },
  {
   "cell_type": "markdown",
   "metadata": {},
   "source": [
    "### Read in CSV File"
   ]
  },
  {
   "cell_type": "markdown",
   "metadata": {},
   "source": [
    "Let's read in our csv file containing our data and use the head function to get an idea of how our data set is organized."
   ]
  },
  {
   "cell_type": "code",
   "execution_count": 13,
   "metadata": {},
   "outputs": [],
   "source": [
    "data = pd.read_csv(\"traffic_count.csv\")"
   ]
  },
  {
   "cell_type": "code",
   "execution_count": 14,
   "metadata": {},
   "outputs": [
    {
     "data": {
      "text/html": [
       "<div>\n",
       "<style scoped>\n",
       "    .dataframe tbody tr th:only-of-type {\n",
       "        vertical-align: middle;\n",
       "    }\n",
       "\n",
       "    .dataframe tbody tr th {\n",
       "        vertical-align: top;\n",
       "    }\n",
       "\n",
       "    .dataframe thead th {\n",
       "        text-align: right;\n",
       "    }\n",
       "</style>\n",
       "<table border=\"1\" class=\"dataframe\">\n",
       "  <thead>\n",
       "    <tr style=\"text-align: right;\">\n",
       "      <th></th>\n",
       "      <th>id</th>\n",
       "      <th>device_id</th>\n",
       "      <th>record_oid</th>\n",
       "      <th>count_start_date</th>\n",
       "      <th>count_end_date</th>\n",
       "      <th>average_daily_car_traffic</th>\n",
       "      <th>average_daily_bike_traffic</th>\n",
       "      <th>counter_number</th>\n",
       "      <th>counter_type</th>\n",
       "      <th>speed_limit</th>\n",
       "      <th>...</th>\n",
       "      <th>longitude</th>\n",
       "      <th>latitude</th>\n",
       "      <th>neighborhood</th>\n",
       "      <th>council_district</th>\n",
       "      <th>ward</th>\n",
       "      <th>tract</th>\n",
       "      <th>public_works_division</th>\n",
       "      <th>pli_division</th>\n",
       "      <th>police_zone</th>\n",
       "      <th>fire_zone</th>\n",
       "    </tr>\n",
       "  </thead>\n",
       "  <tbody>\n",
       "    <tr>\n",
       "      <th>0</th>\n",
       "      <td>1011743669</td>\n",
       "      <td>85</td>\n",
       "      <td>1.445865e+09</td>\n",
       "      <td>2019-04-18</td>\n",
       "      <td>2019-04-26</td>\n",
       "      <td>4949.0</td>\n",
       "      <td>NaN</td>\n",
       "      <td>6</td>\n",
       "      <td>StatTrak</td>\n",
       "      <td>25.0</td>\n",
       "      <td>...</td>\n",
       "      <td>-79.967772</td>\n",
       "      <td>40.455733</td>\n",
       "      <td>Polish Hill</td>\n",
       "      <td>7.0</td>\n",
       "      <td>6.0</td>\n",
       "      <td>42003060500</td>\n",
       "      <td>6.0</td>\n",
       "      <td>6.0</td>\n",
       "      <td>2.0</td>\n",
       "      <td>2-6</td>\n",
       "    </tr>\n",
       "    <tr>\n",
       "      <th>1</th>\n",
       "      <td>1026101993</td>\n",
       "      <td>140</td>\n",
       "      <td>1.121444e+09</td>\n",
       "      <td>2019-01-24</td>\n",
       "      <td>NaN</td>\n",
       "      <td>NaN</td>\n",
       "      <td>NaN</td>\n",
       "      <td>NaN</td>\n",
       "      <td>Intersection Study</td>\n",
       "      <td>NaN</td>\n",
       "      <td>...</td>\n",
       "      <td>-79.952249</td>\n",
       "      <td>40.466157</td>\n",
       "      <td>Central Lawrenceville</td>\n",
       "      <td>7.0</td>\n",
       "      <td>9.0</td>\n",
       "      <td>42003090200</td>\n",
       "      <td>2.0</td>\n",
       "      <td>9.0</td>\n",
       "      <td>2.0</td>\n",
       "      <td>3-6</td>\n",
       "    </tr>\n",
       "    <tr>\n",
       "      <th>2</th>\n",
       "      <td>1032382575</td>\n",
       "      <td>11</td>\n",
       "      <td>1.539893e+09</td>\n",
       "      <td>2018-08-28</td>\n",
       "      <td>2018-09-04</td>\n",
       "      <td>NaN</td>\n",
       "      <td>NaN</td>\n",
       "      <td>NaN</td>\n",
       "      <td>NaN</td>\n",
       "      <td>35.0</td>\n",
       "      <td>...</td>\n",
       "      <td>-80.076469</td>\n",
       "      <td>40.460717</td>\n",
       "      <td>Windgap</td>\n",
       "      <td>2.0</td>\n",
       "      <td>28.0</td>\n",
       "      <td>42003563000</td>\n",
       "      <td>5.0</td>\n",
       "      <td>28.0</td>\n",
       "      <td>6.0</td>\n",
       "      <td>1-16</td>\n",
       "    </tr>\n",
       "    <tr>\n",
       "      <th>3</th>\n",
       "      <td>103627606</td>\n",
       "      <td>9</td>\n",
       "      <td>7.341951e+08</td>\n",
       "      <td>2018-07-17</td>\n",
       "      <td>2018-08-01</td>\n",
       "      <td>2741.0</td>\n",
       "      <td>NaN</td>\n",
       "      <td>NaN</td>\n",
       "      <td>StatTrak</td>\n",
       "      <td>25.0</td>\n",
       "      <td>...</td>\n",
       "      <td>-79.914335</td>\n",
       "      <td>40.437379</td>\n",
       "      <td>Squirrel Hill South</td>\n",
       "      <td>5.0</td>\n",
       "      <td>14.0</td>\n",
       "      <td>42003140800</td>\n",
       "      <td>3.0</td>\n",
       "      <td>14.0</td>\n",
       "      <td>4.0</td>\n",
       "      <td>2-18</td>\n",
       "    </tr>\n",
       "    <tr>\n",
       "      <th>4</th>\n",
       "      <td>1039546167</td>\n",
       "      <td>144</td>\n",
       "      <td>NaN</td>\n",
       "      <td>NaN</td>\n",
       "      <td>NaN</td>\n",
       "      <td>NaN</td>\n",
       "      <td>NaN</td>\n",
       "      <td>NaN</td>\n",
       "      <td>NaN</td>\n",
       "      <td>NaN</td>\n",
       "      <td>...</td>\n",
       "      <td>-80.019211</td>\n",
       "      <td>40.490794</td>\n",
       "      <td>Perry North</td>\n",
       "      <td>1.0</td>\n",
       "      <td>26.0</td>\n",
       "      <td>42003260200</td>\n",
       "      <td>1.0</td>\n",
       "      <td>26.0</td>\n",
       "      <td>1.0</td>\n",
       "      <td>1-15</td>\n",
       "    </tr>\n",
       "  </tbody>\n",
       "</table>\n",
       "<p>5 rows × 25 columns</p>\n",
       "</div>"
      ],
      "text/plain": [
       "           id  device_id    record_oid count_start_date count_end_date  \\\n",
       "0  1011743669         85  1.445865e+09       2019-04-18     2019-04-26   \n",
       "1  1026101993        140  1.121444e+09       2019-01-24            NaN   \n",
       "2  1032382575         11  1.539893e+09       2018-08-28     2018-09-04   \n",
       "3   103627606          9  7.341951e+08       2018-07-17     2018-08-01   \n",
       "4  1039546167        144           NaN              NaN            NaN   \n",
       "\n",
       "   average_daily_car_traffic  average_daily_bike_traffic counter_number  \\\n",
       "0                     4949.0                         NaN              6   \n",
       "1                        NaN                         NaN            NaN   \n",
       "2                        NaN                         NaN            NaN   \n",
       "3                     2741.0                         NaN            NaN   \n",
       "4                        NaN                         NaN            NaN   \n",
       "\n",
       "         counter_type  speed_limit  ...  longitude   latitude  \\\n",
       "0            StatTrak         25.0  ... -79.967772  40.455733   \n",
       "1  Intersection Study          NaN  ... -79.952249  40.466157   \n",
       "2                 NaN         35.0  ... -80.076469  40.460717   \n",
       "3            StatTrak         25.0  ... -79.914335  40.437379   \n",
       "4                 NaN          NaN  ... -80.019211  40.490794   \n",
       "\n",
       "            neighborhood  council_district  ward        tract  \\\n",
       "0            Polish Hill               7.0   6.0  42003060500   \n",
       "1  Central Lawrenceville               7.0   9.0  42003090200   \n",
       "2                Windgap               2.0  28.0  42003563000   \n",
       "3    Squirrel Hill South               5.0  14.0  42003140800   \n",
       "4            Perry North               1.0  26.0  42003260200   \n",
       "\n",
       "   public_works_division pli_division  police_zone  fire_zone  \n",
       "0                    6.0          6.0          2.0        2-6  \n",
       "1                    2.0          9.0          2.0        3-6  \n",
       "2                    5.0         28.0          6.0       1-16  \n",
       "3                    3.0         14.0          4.0       2-18  \n",
       "4                    1.0         26.0          1.0       1-15  \n",
       "\n",
       "[5 rows x 25 columns]"
      ]
     },
     "execution_count": 14,
     "metadata": {},
     "output_type": "execute_result"
    }
   ],
   "source": [
    "data.head()"
   ]
  },
  {
   "cell_type": "markdown",
   "metadata": {},
   "source": [
    "### Average Daily Car Traffic"
   ]
  },
  {
   "cell_type": "markdown",
   "metadata": {},
   "source": [
    "Let's filter a subset of the data to look at neighborhoods and average daily car traffic (dropping NaN values)."
   ]
  },
  {
   "cell_type": "code",
   "execution_count": 15,
   "metadata": {},
   "outputs": [],
   "source": [
    "data_car_neighbor = data[[\"average_daily_car_traffic\", \"neighborhood\"]].dropna()"
   ]
  },
  {
   "cell_type": "markdown",
   "metadata": {},
   "source": [
    "In our data set, it appears that we have multiple occurrences of some neighborhoods. Let's use the groupby() function and lambda function to set these average car traffic counts by neighborhood."
   ]
  },
  {
   "cell_type": "code",
   "execution_count": 24,
   "metadata": {},
   "outputs": [],
   "source": [
    "group_data = data_car_neighbor.groupby(\"neighborhood\").agg(lambda x: x.tolist())"
   ]
  },
  {
   "cell_type": "markdown",
   "metadata": {},
   "source": [
    "Let's iterate through our data frame and total up the average car traffic measures for each neighborhood."
   ]
  },
  {
   "cell_type": "code",
   "execution_count": 25,
   "metadata": {},
   "outputs": [],
   "source": [
    "my_list = []\n",
    "for index, row in group_data.iterrows():\n",
    "    my_list.append(sum(row[\"average_daily_car_traffic\"]))"
   ]
  },
  {
   "cell_type": "markdown",
   "metadata": {},
   "source": [
    "Finally, let's create a new column with these total car traffic values in our data frame."
   ]
  },
  {
   "cell_type": "code",
   "execution_count": 26,
   "metadata": {},
   "outputs": [],
   "source": [
    "group_data.insert(1, \"total_car_traffic\", my_list)"
   ]
  },
  {
   "cell_type": "code",
   "execution_count": 27,
   "metadata": {},
   "outputs": [
    {
     "data": {
      "text/html": [
       "<div>\n",
       "<style scoped>\n",
       "    .dataframe tbody tr th:only-of-type {\n",
       "        vertical-align: middle;\n",
       "    }\n",
       "\n",
       "    .dataframe tbody tr th {\n",
       "        vertical-align: top;\n",
       "    }\n",
       "\n",
       "    .dataframe thead th {\n",
       "        text-align: right;\n",
       "    }\n",
       "</style>\n",
       "<table border=\"1\" class=\"dataframe\">\n",
       "  <thead>\n",
       "    <tr style=\"text-align: right;\">\n",
       "      <th></th>\n",
       "      <th>average_daily_car_traffic</th>\n",
       "      <th>total_car_traffic</th>\n",
       "    </tr>\n",
       "    <tr>\n",
       "      <th>neighborhood</th>\n",
       "      <th></th>\n",
       "      <th></th>\n",
       "    </tr>\n",
       "  </thead>\n",
       "  <tbody>\n",
       "    <tr>\n",
       "      <th>Allegheny Center</th>\n",
       "      <td>[2386.0]</td>\n",
       "      <td>2386.0</td>\n",
       "    </tr>\n",
       "    <tr>\n",
       "      <th>Allegheny West</th>\n",
       "      <td>[477.0]</td>\n",
       "      <td>477.0</td>\n",
       "    </tr>\n",
       "    <tr>\n",
       "      <th>Arlington</th>\n",
       "      <td>[2224.0, 2347.0]</td>\n",
       "      <td>4571.0</td>\n",
       "    </tr>\n",
       "    <tr>\n",
       "      <th>Beechview</th>\n",
       "      <td>[2046.0, 763.0, 1446.0]</td>\n",
       "      <td>4255.0</td>\n",
       "    </tr>\n",
       "    <tr>\n",
       "      <th>Beltzhoover</th>\n",
       "      <td>[1577.0]</td>\n",
       "      <td>1577.0</td>\n",
       "    </tr>\n",
       "    <tr>\n",
       "      <th>...</th>\n",
       "      <td>...</td>\n",
       "      <td>...</td>\n",
       "    </tr>\n",
       "    <tr>\n",
       "      <th>Summer Hill</th>\n",
       "      <td>[937.0]</td>\n",
       "      <td>937.0</td>\n",
       "    </tr>\n",
       "    <tr>\n",
       "      <th>Upper Hill</th>\n",
       "      <td>[1530.0, 927.0, 403.0]</td>\n",
       "      <td>2860.0</td>\n",
       "    </tr>\n",
       "    <tr>\n",
       "      <th>West Oakland</th>\n",
       "      <td>[2585.0]</td>\n",
       "      <td>2585.0</td>\n",
       "    </tr>\n",
       "    <tr>\n",
       "      <th>Westwood</th>\n",
       "      <td>[9600.0, 5800.0]</td>\n",
       "      <td>15400.0</td>\n",
       "    </tr>\n",
       "    <tr>\n",
       "      <th>Windgap</th>\n",
       "      <td>[2931.0, 131.0]</td>\n",
       "      <td>3062.0</td>\n",
       "    </tr>\n",
       "  </tbody>\n",
       "</table>\n",
       "<p>64 rows × 2 columns</p>\n",
       "</div>"
      ],
      "text/plain": [
       "                 average_daily_car_traffic  total_car_traffic\n",
       "neighborhood                                                 \n",
       "Allegheny Center                  [2386.0]             2386.0\n",
       "Allegheny West                     [477.0]              477.0\n",
       "Arlington                 [2224.0, 2347.0]             4571.0\n",
       "Beechview          [2046.0, 763.0, 1446.0]             4255.0\n",
       "Beltzhoover                       [1577.0]             1577.0\n",
       "...                                    ...                ...\n",
       "Summer Hill                        [937.0]              937.0\n",
       "Upper Hill          [1530.0, 927.0, 403.0]             2860.0\n",
       "West Oakland                      [2585.0]             2585.0\n",
       "Westwood                  [9600.0, 5800.0]            15400.0\n",
       "Windgap                    [2931.0, 131.0]             3062.0\n",
       "\n",
       "[64 rows x 2 columns]"
      ]
     },
     "metadata": {},
     "output_type": "display_data"
    }
   ],
   "source": [
    "display(group_data)"
   ]
  },
  {
   "cell_type": "markdown",
   "metadata": {},
   "source": [
    "We will now use a bar plot to visualize the total car traffic by neighborhood."
   ]
  },
  {
   "cell_type": "code",
   "execution_count": 28,
   "metadata": {},
   "outputs": [
    {
     "data": {
      "text/plain": [
       "<matplotlib.axes._subplots.AxesSubplot at 0x7f22edb959d0>"
      ]
     },
     "execution_count": 28,
     "metadata": {},
     "output_type": "execute_result"
    },
    {
     "data": {
      "image/png": "[encoded data removed]",
      "text/plain": [
       "<Figure size 432x288 with 1 Axes>"
      ]
     },
     "metadata": {
      "needs_background": "light"
     },
     "output_type": "display_data"
    }
   ],
   "source": [
    "group_data.plot(kind = \"bar\")"
   ]
  },
  {
   "cell_type": "markdown",
   "metadata": {},
   "source": [
    "It's nice to have a visualization of the total car traffic throughout neighborhoods in Pittsburgh, but what if we could just pull the neighborhood with the least total car traffic?"
   ]
  },
  {
   "cell_type": "code",
   "execution_count": 29,
   "metadata": {},
   "outputs": [
    {
     "name": "stdout",
     "output_type": "stream",
     "text": [
      "                 average_daily_car_traffic  total_car_traffic\n",
      "neighborhood                                                 \n",
      "South Side Flats                   [115.0]              115.0\n"
     ]
    }
   ],
   "source": [
    "print(group_data[group_data.total_car_traffic == group_data.total_car_traffic.min()])"
   ]
  },
  {
   "cell_type": "markdown",
   "metadata": {},
   "source": [
    "The code above says that South Side Flats has the least amount of total car traffic. That's helpful information but what if we could look at the top 5 neighborhoods with least total car traffic?"
   ]
  },
  {
   "cell_type": "code",
   "execution_count": 41,
   "metadata": {},
   "outputs": [
    {
     "data": {
      "text/html": [
       "<div>\n",
       "<style scoped>\n",
       "    .dataframe tbody tr th:only-of-type {\n",
       "        vertical-align: middle;\n",
       "    }\n",
       "\n",
       "    .dataframe tbody tr th {\n",
       "        vertical-align: top;\n",
       "    }\n",
       "\n",
       "    .dataframe thead th {\n",
       "        text-align: right;\n",
       "    }\n",
       "</style>\n",
       "<table border=\"1\" class=\"dataframe\">\n",
       "  <thead>\n",
       "    <tr style=\"text-align: right;\">\n",
       "      <th></th>\n",
       "      <th>average_daily_car_traffic</th>\n",
       "      <th>total_car_traffic</th>\n",
       "    </tr>\n",
       "    <tr>\n",
       "      <th>neighborhood</th>\n",
       "      <th></th>\n",
       "      <th></th>\n",
       "    </tr>\n",
       "  </thead>\n",
       "  <tbody>\n",
       "    <tr>\n",
       "      <th>South Side Flats</th>\n",
       "      <td>[115.0]</td>\n",
       "      <td>115.0</td>\n",
       "    </tr>\n",
       "    <tr>\n",
       "      <th>Lincoln Place</th>\n",
       "      <td>[126.0]</td>\n",
       "      <td>126.0</td>\n",
       "    </tr>\n",
       "    <tr>\n",
       "      <th>Lincoln-Lemington-Belmar</th>\n",
       "      <td>[195.0]</td>\n",
       "      <td>195.0</td>\n",
       "    </tr>\n",
       "    <tr>\n",
       "      <th>Fineview</th>\n",
       "      <td>[419.0]</td>\n",
       "      <td>419.0</td>\n",
       "    </tr>\n",
       "    <tr>\n",
       "      <th>Allegheny West</th>\n",
       "      <td>[477.0]</td>\n",
       "      <td>477.0</td>\n",
       "    </tr>\n",
       "  </tbody>\n",
       "</table>\n",
       "</div>"
      ],
      "text/plain": [
       "                         average_daily_car_traffic  total_car_traffic\n",
       "neighborhood                                                         \n",
       "South Side Flats                           [115.0]              115.0\n",
       "Lincoln Place                              [126.0]              126.0\n",
       "Lincoln-Lemington-Belmar                   [195.0]              195.0\n",
       "Fineview                                   [419.0]              419.0\n",
       "Allegheny West                             [477.0]              477.0"
      ]
     },
     "execution_count": 41,
     "metadata": {},
     "output_type": "execute_result"
    }
   ],
   "source": [
    "group_data.sort_values(\"total_car_traffic\").head(5)"
   ]
  },
  {
   "cell_type": "markdown",
   "metadata": {},
   "source": [
    "Above we have displayed the top 5 neighborhoods with the lowest total car traffic. While this is certainly useful information, what else can we learn from this dataset? Let's look at what columns our data set contains."
   ]
  },
  {
   "cell_type": "code",
   "execution_count": 32,
   "metadata": {},
   "outputs": [
    {
     "data": {
      "text/plain": [
       "Index(['id', 'device_id', 'record_oid', 'count_start_date', 'count_end_date',\n",
       "       'average_daily_car_traffic', 'average_daily_bike_traffic',\n",
       "       'counter_number', 'counter_type', 'speed_limit', 'max_speed',\n",
       "       'median_speed', 'percent_over_limit', 'speed85_percent',\n",
       "       'speed95_percent', 'longitude', 'latitude', 'neighborhood',\n",
       "       'council_district', 'ward', 'tract', 'public_works_division',\n",
       "       'pli_division', 'police_zone', 'fire_zone'],\n",
       "      dtype='object')"
      ]
     },
     "execution_count": 32,
     "metadata": {},
     "output_type": "execute_result"
    }
   ],
   "source": [
    "data.columns"
   ]
  },
  {
   "cell_type": "markdown",
   "metadata": {},
   "source": [
    "It looks like we have 2 additional columns that may be of use to us - average daily bike traffic and percent over the speed limit. The more daily bike traffic indicates others bike in that neighborhood frequently - indicating it is a safe environment. Additionally, the higher the percent of drivers over the speed limit increases the liklihood for car accidents which can endanger bikers. First, let's consider the average daily bike traffic. "
   ]
  },
  {
   "cell_type": "markdown",
   "metadata": {},
   "source": [
    "### Average Daily Bike Traffic"
   ]
  },
  {
   "cell_type": "code",
   "execution_count": 34,
   "metadata": {},
   "outputs": [],
   "source": [
    "bike_neighbor_data = data[[\"average_daily_bike_traffic\", \"neighborhood\"]].dropna()"
   ]
  },
  {
   "cell_type": "markdown",
   "metadata": {},
   "source": [
    "Considering the daily bike traffic, let's group by neighborhood and see how much bike traffic data has been recorded."
   ]
  },
  {
   "cell_type": "code",
   "execution_count": 35,
   "metadata": {},
   "outputs": [],
   "source": [
    "bike_data = bike_neighbor_data.groupby(\"neighborhood\").agg(lambda x: x.tolist())"
   ]
  },
  {
   "cell_type": "code",
   "execution_count": 36,
   "metadata": {},
   "outputs": [
    {
     "data": {
      "text/html": [
       "<div>\n",
       "<style scoped>\n",
       "    .dataframe tbody tr th:only-of-type {\n",
       "        vertical-align: middle;\n",
       "    }\n",
       "\n",
       "    .dataframe tbody tr th {\n",
       "        vertical-align: top;\n",
       "    }\n",
       "\n",
       "    .dataframe thead th {\n",
       "        text-align: right;\n",
       "    }\n",
       "</style>\n",
       "<table border=\"1\" class=\"dataframe\">\n",
       "  <thead>\n",
       "    <tr style=\"text-align: right;\">\n",
       "      <th></th>\n",
       "      <th>average_daily_bike_traffic</th>\n",
       "    </tr>\n",
       "    <tr>\n",
       "      <th>neighborhood</th>\n",
       "      <th></th>\n",
       "    </tr>\n",
       "  </thead>\n",
       "  <tbody>\n",
       "    <tr>\n",
       "      <th>Central Oakland</th>\n",
       "      <td>[198.0]</td>\n",
       "    </tr>\n",
       "    <tr>\n",
       "      <th>North Oakland</th>\n",
       "      <td>[88.0, 102.0]</td>\n",
       "    </tr>\n",
       "    <tr>\n",
       "      <th>South Oakland</th>\n",
       "      <td>[2063.0, 1278.0]</td>\n",
       "    </tr>\n",
       "    <tr>\n",
       "      <th>South Side Flats</th>\n",
       "      <td>[954.0, 892.0]</td>\n",
       "    </tr>\n",
       "  </tbody>\n",
       "</table>\n",
       "</div>"
      ],
      "text/plain": [
       "                 average_daily_bike_traffic\n",
       "neighborhood                               \n",
       "Central Oakland                     [198.0]\n",
       "North Oakland                 [88.0, 102.0]\n",
       "South Oakland              [2063.0, 1278.0]\n",
       "South Side Flats             [954.0, 892.0]"
      ]
     },
     "metadata": {},
     "output_type": "display_data"
    }
   ],
   "source": [
    "display(bike_data)"
   ]
  },
  {
   "cell_type": "markdown",
   "metadata": {},
   "source": [
    "Looking at the dataset above, it seems that there is very little data concerning bike traffic. However, we can still look at the data we have available regarding bike traffic and calculate total bike traffic."
   ]
  },
  {
   "cell_type": "code",
   "execution_count": 42,
   "metadata": {},
   "outputs": [],
   "source": [
    "bike_totals = []\n",
    "for index, row in bike_data.iterrows():\n",
    "    bike_totals.append(sum(row[\"average_daily_bike_traffic\"]))"
   ]
  },
  {
   "cell_type": "code",
   "execution_count": 44,
   "metadata": {},
   "outputs": [],
   "source": [
    "bike_data.insert(1, \"total_bike_traffic\", bike_totals)"
   ]
  },
  {
   "cell_type": "code",
   "execution_count": 45,
   "metadata": {},
   "outputs": [
    {
     "data": {
      "text/html": [
       "<div>\n",
       "<style scoped>\n",
       "    .dataframe tbody tr th:only-of-type {\n",
       "        vertical-align: middle;\n",
       "    }\n",
       "\n",
       "    .dataframe tbody tr th {\n",
       "        vertical-align: top;\n",
       "    }\n",
       "\n",
       "    .dataframe thead th {\n",
       "        text-align: right;\n",
       "    }\n",
       "</style>\n",
       "<table border=\"1\" class=\"dataframe\">\n",
       "  <thead>\n",
       "    <tr style=\"text-align: right;\">\n",
       "      <th></th>\n",
       "      <th>average_daily_bike_traffic</th>\n",
       "      <th>total_bike_traffic</th>\n",
       "    </tr>\n",
       "    <tr>\n",
       "      <th>neighborhood</th>\n",
       "      <th></th>\n",
       "      <th></th>\n",
       "    </tr>\n",
       "  </thead>\n",
       "  <tbody>\n",
       "    <tr>\n",
       "      <th>Central Oakland</th>\n",
       "      <td>[198.0]</td>\n",
       "      <td>198.0</td>\n",
       "    </tr>\n",
       "    <tr>\n",
       "      <th>North Oakland</th>\n",
       "      <td>[88.0, 102.0]</td>\n",
       "      <td>190.0</td>\n",
       "    </tr>\n",
       "    <tr>\n",
       "      <th>South Oakland</th>\n",
       "      <td>[2063.0, 1278.0]</td>\n",
       "      <td>3341.0</td>\n",
       "    </tr>\n",
       "    <tr>\n",
       "      <th>South Side Flats</th>\n",
       "      <td>[954.0, 892.0]</td>\n",
       "      <td>1846.0</td>\n",
       "    </tr>\n",
       "  </tbody>\n",
       "</table>\n",
       "</div>"
      ],
      "text/plain": [
       "                 average_daily_bike_traffic  total_bike_traffic\n",
       "neighborhood                                                   \n",
       "Central Oakland                     [198.0]               198.0\n",
       "North Oakland                 [88.0, 102.0]               190.0\n",
       "South Oakland              [2063.0, 1278.0]              3341.0\n",
       "South Side Flats             [954.0, 892.0]              1846.0"
      ]
     },
     "metadata": {},
     "output_type": "display_data"
    }
   ],
   "source": [
    "display(bike_data)"
   ]
  },
  {
   "cell_type": "markdown",
   "metadata": {},
   "source": [
    "Let's use another bar chart to visualize the total bike traffic by neighborhood."
   ]
  },
  {
   "cell_type": "code",
   "execution_count": 46,
   "metadata": {},
   "outputs": [
    {
     "data": {
      "text/plain": [
       "<matplotlib.axes._subplots.AxesSubplot at 0x7f22ed8ddc10>"
      ]
     },
     "execution_count": 46,
     "metadata": {},
     "output_type": "execute_result"
    },
    {
     "data": {
      "image/png": "[encoded data removed]",
      "text/plain": [
       "<Figure size 432x288 with 1 Axes>"
      ]
     },
     "metadata": {
      "needs_background": "light"
     },
     "output_type": "display_data"
    }
   ],
   "source": [
    "bike_data.plot(kind = \"bar\")"
   ]
  },
  {
   "cell_type": "markdown",
   "metadata": {},
   "source": [
    "From the bar chart above, it is clear that South Oakland has the most bike traffic; however, South Side Flats - the neighborhood identified with the lowest total car traffic has a comparable amount of bike traffic."
   ]
  },
  {
   "cell_type": "code",
   "execution_count": 49,
   "metadata": {},
   "outputs": [
    {
     "data": {
      "text/html": [
       "<div>\n",
       "<style scoped>\n",
       "    .dataframe tbody tr th:only-of-type {\n",
       "        vertical-align: middle;\n",
       "    }\n",
       "\n",
       "    .dataframe tbody tr th {\n",
       "        vertical-align: top;\n",
       "    }\n",
       "\n",
       "    .dataframe thead th {\n",
       "        text-align: right;\n",
       "    }\n",
       "</style>\n",
       "<table border=\"1\" class=\"dataframe\">\n",
       "  <thead>\n",
       "    <tr style=\"text-align: right;\">\n",
       "      <th></th>\n",
       "      <th>average_daily_bike_traffic</th>\n",
       "      <th>total_bike_traffic</th>\n",
       "    </tr>\n",
       "    <tr>\n",
       "      <th>neighborhood</th>\n",
       "      <th></th>\n",
       "      <th></th>\n",
       "    </tr>\n",
       "  </thead>\n",
       "  <tbody>\n",
       "    <tr>\n",
       "      <th>South Oakland</th>\n",
       "      <td>[2063.0, 1278.0]</td>\n",
       "      <td>3341.0</td>\n",
       "    </tr>\n",
       "    <tr>\n",
       "      <th>South Side Flats</th>\n",
       "      <td>[954.0, 892.0]</td>\n",
       "      <td>1846.0</td>\n",
       "    </tr>\n",
       "    <tr>\n",
       "      <th>Central Oakland</th>\n",
       "      <td>[198.0]</td>\n",
       "      <td>198.0</td>\n",
       "    </tr>\n",
       "    <tr>\n",
       "      <th>North Oakland</th>\n",
       "      <td>[88.0, 102.0]</td>\n",
       "      <td>190.0</td>\n",
       "    </tr>\n",
       "  </tbody>\n",
       "</table>\n",
       "</div>"
      ],
      "text/plain": [
       "                 average_daily_bike_traffic  total_bike_traffic\n",
       "neighborhood                                                   \n",
       "South Oakland              [2063.0, 1278.0]              3341.0\n",
       "South Side Flats             [954.0, 892.0]              1846.0\n",
       "Central Oakland                     [198.0]               198.0\n",
       "North Oakland                 [88.0, 102.0]               190.0"
      ]
     },
     "execution_count": 49,
     "metadata": {},
     "output_type": "execute_result"
    }
   ],
   "source": [
    "bike_data.sort_values(\"total_bike_traffic\", ascending = False)"
   ]
  },
  {
   "cell_type": "markdown",
   "metadata": {},
   "source": [
    "After sorting out data by total bike traffic, it becomes clear that **South Oakland** has the most bike traffic and **South Side Flats** has the second most bike traffic of the data collected."
   ]
  },
  {
   "cell_type": "markdown",
   "metadata": {},
   "source": [
    "### Percent Over Speed Limit"
   ]
  },
  {
   "cell_type": "markdown",
   "metadata": {},
   "source": [
    "Finally, let's consider the percent over speed limit parameter of this data set. This can indicate how safe the resulting neighborhood is for biking by indicating how many drivers exceed the local speed limits. "
   ]
  },
  {
   "cell_type": "code",
   "execution_count": 52,
   "metadata": {},
   "outputs": [],
   "source": [
    "speed_limit_neighborhood_data = data[[\"percent_over_limit\", \"neighborhood\"]].dropna()"
   ]
  },
  {
   "cell_type": "code",
   "execution_count": 53,
   "metadata": {},
   "outputs": [
    {
     "data": {
      "text/html": [
       "<div>\n",
       "<style scoped>\n",
       "    .dataframe tbody tr th:only-of-type {\n",
       "        vertical-align: middle;\n",
       "    }\n",
       "\n",
       "    .dataframe tbody tr th {\n",
       "        vertical-align: top;\n",
       "    }\n",
       "\n",
       "    .dataframe thead th {\n",
       "        text-align: right;\n",
       "    }\n",
       "</style>\n",
       "<table border=\"1\" class=\"dataframe\">\n",
       "  <thead>\n",
       "    <tr style=\"text-align: right;\">\n",
       "      <th></th>\n",
       "      <th>percent_over_limit</th>\n",
       "      <th>neighborhood</th>\n",
       "    </tr>\n",
       "  </thead>\n",
       "  <tbody>\n",
       "    <tr>\n",
       "      <th>0</th>\n",
       "      <td>77.0</td>\n",
       "      <td>Polish Hill</td>\n",
       "    </tr>\n",
       "    <tr>\n",
       "      <th>2</th>\n",
       "      <td>28.0</td>\n",
       "      <td>Windgap</td>\n",
       "    </tr>\n",
       "    <tr>\n",
       "      <th>3</th>\n",
       "      <td>70.0</td>\n",
       "      <td>Squirrel Hill South</td>\n",
       "    </tr>\n",
       "    <tr>\n",
       "      <th>5</th>\n",
       "      <td>2.0</td>\n",
       "      <td>Central Northside</td>\n",
       "    </tr>\n",
       "    <tr>\n",
       "      <th>7</th>\n",
       "      <td>58.0</td>\n",
       "      <td>Polish Hill</td>\n",
       "    </tr>\n",
       "    <tr>\n",
       "      <th>...</th>\n",
       "      <td>...</td>\n",
       "      <td>...</td>\n",
       "    </tr>\n",
       "    <tr>\n",
       "      <th>407</th>\n",
       "      <td>13.0</td>\n",
       "      <td>Homewood South</td>\n",
       "    </tr>\n",
       "    <tr>\n",
       "      <th>408</th>\n",
       "      <td>17.0</td>\n",
       "      <td>Homewood South</td>\n",
       "    </tr>\n",
       "    <tr>\n",
       "      <th>410</th>\n",
       "      <td>29.0</td>\n",
       "      <td>Bloomfield</td>\n",
       "    </tr>\n",
       "    <tr>\n",
       "      <th>411</th>\n",
       "      <td>10.0</td>\n",
       "      <td>Bloomfield</td>\n",
       "    </tr>\n",
       "    <tr>\n",
       "      <th>412</th>\n",
       "      <td>31.0</td>\n",
       "      <td>Central Lawrenceville</td>\n",
       "    </tr>\n",
       "  </tbody>\n",
       "</table>\n",
       "<p>240 rows × 2 columns</p>\n",
       "</div>"
      ],
      "text/plain": [
       "     percent_over_limit           neighborhood\n",
       "0                  77.0            Polish Hill\n",
       "2                  28.0                Windgap\n",
       "3                  70.0    Squirrel Hill South\n",
       "5                   2.0      Central Northside\n",
       "7                  58.0            Polish Hill\n",
       "..                  ...                    ...\n",
       "407                13.0         Homewood South\n",
       "408                17.0         Homewood South\n",
       "410                29.0             Bloomfield\n",
       "411                10.0             Bloomfield\n",
       "412                31.0  Central Lawrenceville\n",
       "\n",
       "[240 rows x 2 columns]"
      ]
     },
     "execution_count": 53,
     "metadata": {},
     "output_type": "execute_result"
    }
   ],
   "source": [
    "speed_limit_neighborhood_data"
   ]
  },
  {
   "cell_type": "markdown",
   "metadata": {},
   "source": [
    "Again, let's group together repeating neighborhoods using the `groupby` function."
   ]
  },
  {
   "cell_type": "code",
   "execution_count": 54,
   "metadata": {},
   "outputs": [],
   "source": [
    "speed_limit_data = speed_limit_neighborhood_data.groupby(\"neighborhood\").agg(lambda x: x.tolist())"
   ]
  },
  {
   "cell_type": "code",
   "execution_count": 55,
   "metadata": {},
   "outputs": [
    {
     "data": {
      "text/html": [
       "<div>\n",
       "<style scoped>\n",
       "    .dataframe tbody tr th:only-of-type {\n",
       "        vertical-align: middle;\n",
       "    }\n",
       "\n",
       "    .dataframe tbody tr th {\n",
       "        vertical-align: top;\n",
       "    }\n",
       "\n",
       "    .dataframe thead th {\n",
       "        text-align: right;\n",
       "    }\n",
       "</style>\n",
       "<table border=\"1\" class=\"dataframe\">\n",
       "  <thead>\n",
       "    <tr style=\"text-align: right;\">\n",
       "      <th></th>\n",
       "      <th>percent_over_limit</th>\n",
       "    </tr>\n",
       "    <tr>\n",
       "      <th>neighborhood</th>\n",
       "      <th></th>\n",
       "    </tr>\n",
       "  </thead>\n",
       "  <tbody>\n",
       "    <tr>\n",
       "      <th>Allegheny Center</th>\n",
       "      <td>[65.0]</td>\n",
       "    </tr>\n",
       "    <tr>\n",
       "      <th>Allegheny West</th>\n",
       "      <td>[11.0]</td>\n",
       "    </tr>\n",
       "    <tr>\n",
       "      <th>Arlington</th>\n",
       "      <td>[73.0, 50.0]</td>\n",
       "    </tr>\n",
       "    <tr>\n",
       "      <th>Beechview</th>\n",
       "      <td>[85.0, 20.0, 72.0]</td>\n",
       "    </tr>\n",
       "    <tr>\n",
       "      <th>Bloomfield</th>\n",
       "      <td>[17.0, 14.0, 14.0, 91.0, 15.0, 8.0, 23.0, 29.0...</td>\n",
       "    </tr>\n",
       "    <tr>\n",
       "      <th>...</th>\n",
       "      <td>...</td>\n",
       "    </tr>\n",
       "    <tr>\n",
       "      <th>Summer Hill</th>\n",
       "      <td>[55.0]</td>\n",
       "    </tr>\n",
       "    <tr>\n",
       "      <th>Upper Hill</th>\n",
       "      <td>[15.0, 0.0, 58.0]</td>\n",
       "    </tr>\n",
       "    <tr>\n",
       "      <th>West Oakland</th>\n",
       "      <td>[28.0]</td>\n",
       "    </tr>\n",
       "    <tr>\n",
       "      <th>Westwood</th>\n",
       "      <td>[32.0, 87.0]</td>\n",
       "    </tr>\n",
       "    <tr>\n",
       "      <th>Windgap</th>\n",
       "      <td>[28.0, 44.0, 29.0]</td>\n",
       "    </tr>\n",
       "  </tbody>\n",
       "</table>\n",
       "<p>62 rows × 1 columns</p>\n",
       "</div>"
      ],
      "text/plain": [
       "                                                 percent_over_limit\n",
       "neighborhood                                                       \n",
       "Allegheny Center                                             [65.0]\n",
       "Allegheny West                                               [11.0]\n",
       "Arlington                                              [73.0, 50.0]\n",
       "Beechview                                        [85.0, 20.0, 72.0]\n",
       "Bloomfield        [17.0, 14.0, 14.0, 91.0, 15.0, 8.0, 23.0, 29.0...\n",
       "...                                                             ...\n",
       "Summer Hill                                                  [55.0]\n",
       "Upper Hill                                        [15.0, 0.0, 58.0]\n",
       "West Oakland                                                 [28.0]\n",
       "Westwood                                               [32.0, 87.0]\n",
       "Windgap                                          [28.0, 44.0, 29.0]\n",
       "\n",
       "[62 rows x 1 columns]"
      ]
     },
     "execution_count": 55,
     "metadata": {},
     "output_type": "execute_result"
    }
   ],
   "source": [
    "speed_limit_data"
   ]
  },
  {
   "cell_type": "markdown",
   "metadata": {},
   "source": [
    "Now that we have grouped repeated neighborhoods into a list, lets find the average percent over the speed limit for each neighborhood. We can use the mean function from the numpy package we imported above. "
   ]
  },
  {
   "cell_type": "code",
   "execution_count": 58,
   "metadata": {},
   "outputs": [],
   "source": [
    "speed_totals = []\n",
    "for index, row in speed_limit_data.iterrows():\n",
    "    speed_totals.append(np.mean(row[\"percent_over_limit\"]))"
   ]
  },
  {
   "cell_type": "code",
   "execution_count": 59,
   "metadata": {},
   "outputs": [],
   "source": [
    "speed_limit_data.insert(1, \"average_percent_over_limit\", speed_totals)"
   ]
  },
  {
   "cell_type": "code",
   "execution_count": 60,
   "metadata": {},
   "outputs": [
    {
     "data": {
      "text/html": [
       "<div>\n",
       "<style scoped>\n",
       "    .dataframe tbody tr th:only-of-type {\n",
       "        vertical-align: middle;\n",
       "    }\n",
       "\n",
       "    .dataframe tbody tr th {\n",
       "        vertical-align: top;\n",
       "    }\n",
       "\n",
       "    .dataframe thead th {\n",
       "        text-align: right;\n",
       "    }\n",
       "</style>\n",
       "<table border=\"1\" class=\"dataframe\">\n",
       "  <thead>\n",
       "    <tr style=\"text-align: right;\">\n",
       "      <th></th>\n",
       "      <th>percent_over_limit</th>\n",
       "      <th>average_percent_over_limit</th>\n",
       "    </tr>\n",
       "    <tr>\n",
       "      <th>neighborhood</th>\n",
       "      <th></th>\n",
       "      <th></th>\n",
       "    </tr>\n",
       "  </thead>\n",
       "  <tbody>\n",
       "    <tr>\n",
       "      <th>Allegheny Center</th>\n",
       "      <td>[65.0]</td>\n",
       "      <td>65.000000</td>\n",
       "    </tr>\n",
       "    <tr>\n",
       "      <th>Allegheny West</th>\n",
       "      <td>[11.0]</td>\n",
       "      <td>11.000000</td>\n",
       "    </tr>\n",
       "    <tr>\n",
       "      <th>Arlington</th>\n",
       "      <td>[73.0, 50.0]</td>\n",
       "      <td>61.500000</td>\n",
       "    </tr>\n",
       "    <tr>\n",
       "      <th>Beechview</th>\n",
       "      <td>[85.0, 20.0, 72.0]</td>\n",
       "      <td>59.000000</td>\n",
       "    </tr>\n",
       "    <tr>\n",
       "      <th>Bloomfield</th>\n",
       "      <td>[17.0, 14.0, 14.0, 91.0, 15.0, 8.0, 23.0, 29.0...</td>\n",
       "      <td>24.555556</td>\n",
       "    </tr>\n",
       "    <tr>\n",
       "      <th>...</th>\n",
       "      <td>...</td>\n",
       "      <td>...</td>\n",
       "    </tr>\n",
       "    <tr>\n",
       "      <th>Summer Hill</th>\n",
       "      <td>[55.0]</td>\n",
       "      <td>55.000000</td>\n",
       "    </tr>\n",
       "    <tr>\n",
       "      <th>Upper Hill</th>\n",
       "      <td>[15.0, 0.0, 58.0]</td>\n",
       "      <td>24.333333</td>\n",
       "    </tr>\n",
       "    <tr>\n",
       "      <th>West Oakland</th>\n",
       "      <td>[28.0]</td>\n",
       "      <td>28.000000</td>\n",
       "    </tr>\n",
       "    <tr>\n",
       "      <th>Westwood</th>\n",
       "      <td>[32.0, 87.0]</td>\n",
       "      <td>59.500000</td>\n",
       "    </tr>\n",
       "    <tr>\n",
       "      <th>Windgap</th>\n",
       "      <td>[28.0, 44.0, 29.0]</td>\n",
       "      <td>33.666667</td>\n",
       "    </tr>\n",
       "  </tbody>\n",
       "</table>\n",
       "<p>62 rows × 2 columns</p>\n",
       "</div>"
      ],
      "text/plain": [
       "                                                 percent_over_limit  \\\n",
       "neighborhood                                                          \n",
       "Allegheny Center                                             [65.0]   \n",
       "Allegheny West                                               [11.0]   \n",
       "Arlington                                              [73.0, 50.0]   \n",
       "Beechview                                        [85.0, 20.0, 72.0]   \n",
       "Bloomfield        [17.0, 14.0, 14.0, 91.0, 15.0, 8.0, 23.0, 29.0...   \n",
       "...                                                             ...   \n",
       "Summer Hill                                                  [55.0]   \n",
       "Upper Hill                                        [15.0, 0.0, 58.0]   \n",
       "West Oakland                                                 [28.0]   \n",
       "Westwood                                               [32.0, 87.0]   \n",
       "Windgap                                          [28.0, 44.0, 29.0]   \n",
       "\n",
       "                  average_percent_over_limit  \n",
       "neighborhood                                  \n",
       "Allegheny Center                   65.000000  \n",
       "Allegheny West                     11.000000  \n",
       "Arlington                          61.500000  \n",
       "Beechview                          59.000000  \n",
       "Bloomfield                         24.555556  \n",
       "...                                      ...  \n",
       "Summer Hill                        55.000000  \n",
       "Upper Hill                         24.333333  \n",
       "West Oakland                       28.000000  \n",
       "Westwood                           59.500000  \n",
       "Windgap                            33.666667  \n",
       "\n",
       "[62 rows x 2 columns]"
      ]
     },
     "metadata": {},
     "output_type": "display_data"
    }
   ],
   "source": [
    "display(speed_limit_data)"
   ]
  },
  {
   "cell_type": "markdown",
   "metadata": {},
   "source": [
    "Let's make use of the bar graph plot to visualize what this average percent of people driving over the speed limit looks like."
   ]
  },
  {
   "cell_type": "code",
   "execution_count": 61,
   "metadata": {},
   "outputs": [
    {
     "data": {
      "text/plain": [
       "<matplotlib.axes._subplots.AxesSubplot at 0x7f22ed790340>"
      ]
     },
     "execution_count": 61,
     "metadata": {},
     "output_type": "execute_result"
    },
    {
     "data": {
      "image/png": "[encoded data removed]",
      "text/plain": [
       "<Figure size 432x288 with 1 Axes>"
      ]
     },
     "metadata": {
      "needs_background": "light"
     },
     "output_type": "display_data"
    }
   ],
   "source": [
    "speed_limit_data.plot(kind = \"bar\")"
   ]
  },
  {
   "cell_type": "markdown",
   "metadata": {},
   "source": [
    "Now, let's sort these values from low to high to identify the neighborhoods with the lowest percent of drivers exceeding the speed limit."
   ]
  },
  {
   "cell_type": "code",
   "execution_count": 62,
   "metadata": {},
   "outputs": [
    {
     "data": {
      "text/html": [
       "<div>\n",
       "<style scoped>\n",
       "    .dataframe tbody tr th:only-of-type {\n",
       "        vertical-align: middle;\n",
       "    }\n",
       "\n",
       "    .dataframe tbody tr th {\n",
       "        vertical-align: top;\n",
       "    }\n",
       "\n",
       "    .dataframe thead th {\n",
       "        text-align: right;\n",
       "    }\n",
       "</style>\n",
       "<table border=\"1\" class=\"dataframe\">\n",
       "  <thead>\n",
       "    <tr style=\"text-align: right;\">\n",
       "      <th></th>\n",
       "      <th>percent_over_limit</th>\n",
       "      <th>average_percent_over_limit</th>\n",
       "    </tr>\n",
       "    <tr>\n",
       "      <th>neighborhood</th>\n",
       "      <th></th>\n",
       "      <th></th>\n",
       "    </tr>\n",
       "  </thead>\n",
       "  <tbody>\n",
       "    <tr>\n",
       "      <th>South Side Flats</th>\n",
       "      <td>[3.0]</td>\n",
       "      <td>3.000000</td>\n",
       "    </tr>\n",
       "    <tr>\n",
       "      <th>Central Business District</th>\n",
       "      <td>[6.0]</td>\n",
       "      <td>6.000000</td>\n",
       "    </tr>\n",
       "    <tr>\n",
       "      <th>Allegheny West</th>\n",
       "      <td>[11.0]</td>\n",
       "      <td>11.000000</td>\n",
       "    </tr>\n",
       "    <tr>\n",
       "      <th>Lincoln Place</th>\n",
       "      <td>[14.0]</td>\n",
       "      <td>14.000000</td>\n",
       "    </tr>\n",
       "    <tr>\n",
       "      <th>Bluff</th>\n",
       "      <td>[23.0, 9.0, 12.0]</td>\n",
       "      <td>14.666667</td>\n",
       "    </tr>\n",
       "    <tr>\n",
       "      <th>...</th>\n",
       "      <td>...</td>\n",
       "      <td>...</td>\n",
       "    </tr>\n",
       "    <tr>\n",
       "      <th>St. Clair</th>\n",
       "      <td>[85.0]</td>\n",
       "      <td>85.000000</td>\n",
       "    </tr>\n",
       "    <tr>\n",
       "      <th>Regent Square</th>\n",
       "      <td>[86.0]</td>\n",
       "      <td>86.000000</td>\n",
       "    </tr>\n",
       "    <tr>\n",
       "      <th>Point Breeze North</th>\n",
       "      <td>[81.0, 95.0]</td>\n",
       "      <td>88.000000</td>\n",
       "    </tr>\n",
       "    <tr>\n",
       "      <th>Elliott</th>\n",
       "      <td>[97.0]</td>\n",
       "      <td>97.000000</td>\n",
       "    </tr>\n",
       "    <tr>\n",
       "      <th>Crafton Heights</th>\n",
       "      <td>[98.0]</td>\n",
       "      <td>98.000000</td>\n",
       "    </tr>\n",
       "  </tbody>\n",
       "</table>\n",
       "<p>62 rows × 2 columns</p>\n",
       "</div>"
      ],
      "text/plain": [
       "                          percent_over_limit  average_percent_over_limit\n",
       "neighborhood                                                            \n",
       "South Side Flats                       [3.0]                    3.000000\n",
       "Central Business District              [6.0]                    6.000000\n",
       "Allegheny West                        [11.0]                   11.000000\n",
       "Lincoln Place                         [14.0]                   14.000000\n",
       "Bluff                      [23.0, 9.0, 12.0]                   14.666667\n",
       "...                                      ...                         ...\n",
       "St. Clair                             [85.0]                   85.000000\n",
       "Regent Square                         [86.0]                   86.000000\n",
       "Point Breeze North              [81.0, 95.0]                   88.000000\n",
       "Elliott                               [97.0]                   97.000000\n",
       "Crafton Heights                       [98.0]                   98.000000\n",
       "\n",
       "[62 rows x 2 columns]"
      ]
     },
     "execution_count": 62,
     "metadata": {},
     "output_type": "execute_result"
    }
   ],
   "source": [
    "speed_limit_data.sort_values(\"average_percent_over_limit\")"
   ]
  },
  {
   "cell_type": "markdown",
   "metadata": {},
   "source": [
    "After sorting these values, we see - for a third time - **South Side Flats** is a relevant neighborhood as this has the lowest percent of drivers exceeding the speed limits. "
   ]
  },
  {
   "cell_type": "markdown",
   "metadata": {},
   "source": [
    "### Conclusion"
   ]
  },
  {
   "cell_type": "markdown",
   "metadata": {},
   "source": [
    "From the data we have seen above, I would argue that **South Side Flats** is the best neighborhood to support a biking environment given that it has the least amount of car traffic on a daily basis, the second most daily bike traffic, and the lowest percent of drivers exceeding the speed limit."
   ]
  },
  {
   "cell_type": "code",
   "execution_count": null,
   "metadata": {},
   "outputs": [],
   "source": []
  }
 ],
 "metadata": {
  "kernelspec": {
   "display_name": "Python 3",
   "language": "python",
   "name": "python3"
  },
  "language_info": {
   "codemirror_mode": {
    "name": "ipython",
    "version": 3
   },
   "file_extension": ".py",
   "mimetype": "text/x-python",
   "name": "python",
   "nbconvert_exporter": "python",
   "pygments_lexer": "ipython3",
   "version": "3.8.3"
  }
 },
 "nbformat": 4,
 "nbformat_minor": 4
}
